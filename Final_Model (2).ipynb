{
  "nbformat": 4,
  "nbformat_minor": 0,
  "metadata": {
    "colab": {
      "name": "Final_Model.ipynb",
      "provenance": [],
      "collapsed_sections": [],
      "machine_shape": "hm"
    },
    "kernelspec": {
      "name": "python3",
      "display_name": "Python 3"
    },
    "accelerator": "GPU"
  },
  "cells": [
    {
      "cell_type": "code",
      "metadata": {
        "id": "KbfRW_iaWBHZ"
      },
      "source": [
        ""
      ],
      "execution_count": null,
      "outputs": []
    },
    {
      "cell_type": "markdown",
      "metadata": {
        "id": "m6Uo6J6tdEXz"
      },
      "source": [
        ""
      ]
    },
    {
      "cell_type": "code",
      "metadata": {
        "id": "4jMVhRAbcZkT"
      },
      "source": [
        "#Importing the libraries\r\n",
        "import pandas as pd\r\n",
        "import numpy as np"
      ],
      "execution_count": 1,
      "outputs": []
    },
    {
      "cell_type": "code",
      "metadata": {
        "colab": {
          "base_uri": "https://localhost:8080/"
        },
        "id": "ZnAyUcxlgP19",
        "outputId": "aa2b8519-8e25-4ad0-b981-04ff1f0d7b69"
      },
      "source": [
        "#Mount the drive \r\n",
        "from google.colab import drive\r\n",
        "drive.mount('/content/drive')"
      ],
      "execution_count": 2,
      "outputs": [
        {
          "output_type": "stream",
          "text": [
            "Drive already mounted at /content/drive; to attempt to forcibly remount, call drive.mount(\"/content/drive\", force_remount=True).\n"
          ],
          "name": "stdout"
        }
      ]
    },
    {
      "cell_type": "code",
      "metadata": {
        "colab": {
          "base_uri": "https://localhost:8080/",
          "height": 306
        },
        "id": "dj9dwPl7gP87",
        "outputId": "3e9f82e5-2d2b-44bd-b91d-7dcda359910f"
      },
      "source": [
        "#Load the dataset\r\n",
        "df=pd.read_csv(\"drive/My Drive/CSV_Files/DrugsDotCom_preprocessed.csv\",encoding=\"ISO-8859-1\")\r\n",
        "df.head()"
      ],
      "execution_count": 3,
      "outputs": [
        {
          "output_type": "execute_result",
          "data": {
            "text/html": [
              "<div>\n",
              "<style scoped>\n",
              "    .dataframe tbody tr th:only-of-type {\n",
              "        vertical-align: middle;\n",
              "    }\n",
              "\n",
              "    .dataframe tbody tr th {\n",
              "        vertical-align: top;\n",
              "    }\n",
              "\n",
              "    .dataframe thead th {\n",
              "        text-align: right;\n",
              "    }\n",
              "</style>\n",
              "<table border=\"1\" class=\"dataframe\">\n",
              "  <thead>\n",
              "    <tr style=\"text-align: right;\">\n",
              "      <th></th>\n",
              "      <th>Unnamed: 0</th>\n",
              "      <th>index</th>\n",
              "      <th>drugName</th>\n",
              "      <th>condition</th>\n",
              "      <th>review</th>\n",
              "      <th>rating</th>\n",
              "      <th>date</th>\n",
              "      <th>usefulCount</th>\n",
              "      <th>cleaned_review</th>\n",
              "      <th>tokenized</th>\n",
              "      <th>lemmatized</th>\n",
              "    </tr>\n",
              "  </thead>\n",
              "  <tbody>\n",
              "    <tr>\n",
              "      <th>0</th>\n",
              "      <td>0</td>\n",
              "      <td>0</td>\n",
              "      <td>Liraglutide</td>\n",
              "      <td>Obesity</td>\n",
              "      <td>\" began with the minimum 0.6 mg dose of Saxend...</td>\n",
              "      <td>10</td>\n",
              "      <td>March 18, 2017</td>\n",
              "      <td>28</td>\n",
              "      <td>[ began minimum mg dose saxenda february incre...</td>\n",
              "      <td>['[', 'began', 'minimum', 'mg', 'dose', 'saxen...</td>\n",
              "      <td>[ began minimum mg dose saxenda february incre...</td>\n",
              "    </tr>\n",
              "    <tr>\n",
              "      <th>1</th>\n",
              "      <td>1</td>\n",
              "      <td>1</td>\n",
              "      <td>Quetiapine</td>\n",
              "      <td>Bipolar Disorde</td>\n",
              "      <td>\" Caused depression and negative, self defeati...</td>\n",
              "      <td>1</td>\n",
              "      <td>August 25, 2016</td>\n",
              "      <td>2</td>\n",
              "      <td>[ caused depression negative self defeating th...</td>\n",
              "      <td>['[', 'caused', 'depression', 'negative', 'sel...</td>\n",
              "      <td>[ caused depression negative self defeating th...</td>\n",
              "    </tr>\n",
              "    <tr>\n",
              "      <th>2</th>\n",
              "      <td>2</td>\n",
              "      <td>2</td>\n",
              "      <td>Ethinyl estradiol / levonorgestrel</td>\n",
              "      <td>Birth Control</td>\n",
              "      <td>\" Ever since I started taking this birth contr...</td>\n",
              "      <td>1</td>\n",
              "      <td>October 30, 2017</td>\n",
              "      <td>2</td>\n",
              "      <td>[ ever since started taking birth control noti...</td>\n",
              "      <td>['[', 'ever', 'since', 'started', 'taking', 'b...</td>\n",
              "      <td>[ ever since started taking birth control noti...</td>\n",
              "    </tr>\n",
              "    <tr>\n",
              "      <th>3</th>\n",
              "      <td>3</td>\n",
              "      <td>3</td>\n",
              "      <td>Lorazepam</td>\n",
              "      <td>Anxiety</td>\n",
              "      <td>\" Had a sort of nervous breakdown during a tri...</td>\n",
              "      <td>9</td>\n",
              "      <td>June 4, 2014</td>\n",
              "      <td>64</td>\n",
              "      <td>[ sort nervous breakdown trip could catch brea...</td>\n",
              "      <td>['[', 'sort', 'nervous', 'breakdown', 'trip', ...</td>\n",
              "      <td>[ sort nervous breakdown trip could catch brea...</td>\n",
              "    </tr>\n",
              "    <tr>\n",
              "      <th>4</th>\n",
              "      <td>4</td>\n",
              "      <td>4</td>\n",
              "      <td>Aczone</td>\n",
              "      <td>Acne</td>\n",
              "      <td>\" I am 28, have struggled with acne for 10 yea...</td>\n",
              "      <td>10</td>\n",
              "      <td>June 2, 2015</td>\n",
              "      <td>16</td>\n",
              "      <td>[ struggled acne year product kept consistentl...</td>\n",
              "      <td>['[', 'struggled', 'acne', 'year', 'product', ...</td>\n",
              "      <td>[ struggled acne year product kept consistentl...</td>\n",
              "    </tr>\n",
              "  </tbody>\n",
              "</table>\n",
              "</div>"
            ],
            "text/plain": [
              "   Unnamed: 0  ...                                         lemmatized\n",
              "0           0  ...  [ began minimum mg dose saxenda february incre...\n",
              "1           1  ...  [ caused depression negative self defeating th...\n",
              "2           2  ...  [ ever since started taking birth control noti...\n",
              "3           3  ...  [ sort nervous breakdown trip could catch brea...\n",
              "4           4  ...  [ struggled acne year product kept consistentl...\n",
              "\n",
              "[5 rows x 11 columns]"
            ]
          },
          "metadata": {
            "tags": []
          },
          "execution_count": 3
        }
      ]
    },
    {
      "cell_type": "code",
      "metadata": {
        "colab": {
          "base_uri": "https://localhost:8080/"
        },
        "id": "3r4mIxBegQDL",
        "outputId": "79b6dc3a-831d-4085-d51a-d1f09f255c82"
      },
      "source": [
        "#Set the col width\r\n",
        "pd.set_option('max_rows', 99999)\r\n",
        "pd.set_option('max_colwidth', 400)\r\n",
        "pd.describe_option('max_colwidth')"
      ],
      "execution_count": 4,
      "outputs": [
        {
          "output_type": "stream",
          "text": [
            "display.max_colwidth : int or None\n",
            "    The maximum width in characters of a column in the repr of\n",
            "    a pandas data structure. When the column overflows, a \"...\"\n",
            "    placeholder is embedded in the output. A 'None' value means unlimited.\n",
            "    [default: 50] [currently: 400]\n"
          ],
          "name": "stdout"
        }
      ]
    },
    {
      "cell_type": "code",
      "metadata": {
        "id": "HOsC_J9EgQIn"
      },
      "source": [
        "#Droping duplicates\r\n",
        "df=df.drop_duplicates(subset=[\"drugName\",\"condition\",\"review\",\"rating\"],keep='first')"
      ],
      "execution_count": 5,
      "outputs": []
    },
    {
      "cell_type": "code",
      "metadata": {
        "id": "U5E5NPvPgQNg"
      },
      "source": [
        "#reseting the index\r\n",
        "df = df.copy()\r\n",
        "df.reset_index(inplace = True)"
      ],
      "execution_count": 6,
      "outputs": []
    },
    {
      "cell_type": "code",
      "metadata": {
        "colab": {
          "base_uri": "https://localhost:8080/",
          "height": 306
        },
        "id": "Gf5mC77-gQSE",
        "outputId": "a079dd3c-bdc6-4595-afdd-6e40b588326b"
      },
      "source": [
        "#Combining the all reviews by drugname\r\n",
        "df1 = pd.DataFrame(df.groupby('drugName')['review'].apply(' '.join).reset_index())\r\n",
        "df1.head()"
      ],
      "execution_count": 7,
      "outputs": [
        {
          "output_type": "execute_result",
          "data": {
            "text/html": [
              "<div>\n",
              "<style scoped>\n",
              "    .dataframe tbody tr th:only-of-type {\n",
              "        vertical-align: middle;\n",
              "    }\n",
              "\n",
              "    .dataframe tbody tr th {\n",
              "        vertical-align: top;\n",
              "    }\n",
              "\n",
              "    .dataframe thead th {\n",
              "        text-align: right;\n",
              "    }\n",
              "</style>\n",
              "<table border=\"1\" class=\"dataframe\">\n",
              "  <thead>\n",
              "    <tr style=\"text-align: right;\">\n",
              "      <th></th>\n",
              "      <th>drugName</th>\n",
              "      <th>review</th>\n",
              "    </tr>\n",
              "  </thead>\n",
              "  <tbody>\n",
              "    <tr>\n",
              "      <th>0</th>\n",
              "      <td>A + D Cracked Skin Relief</td>\n",
              "      <td>\"I have severe cracked skin on my hands. Ive tried many different products - my skin is extremely sensitive. This product helps heal my skin, does not sting and is not greasy (important when using for hands). This is the best product Ive found for my condition, but it is hard to find - my drugstore cant even order it for me anymore.\"</td>\n",
              "    </tr>\n",
              "    <tr>\n",
              "      <th>1</th>\n",
              "      <td>A / B Otic</td>\n",
              "      <td>\"It numbs the pain. It makes my ear feel heavier - but at least the throbbing subsides. I always feel drowsy after the dosage. With an ear infection - sleeping is good!\" \"These drops helped me so much. I was in severe pain for 8 days before I finally found a doctor who would prescribe them to me. I went to the ER 5 days in a row before I got any relief.\"</td>\n",
              "    </tr>\n",
              "    <tr>\n",
              "      <th>2</th>\n",
              "      <td>Abacavir / lamivudine</td>\n",
              "      <td>\"Epzicom, Reyataz AND Norvir triple combination. It is expensive, but ALL hiv medications are expensive and there are programs to help pay for the medicine if you have a low wage since most of these HIV medicines cost between $3000 and $10000 or more. This one in combination with Reyataz and Norvir has brought my CD4 level up to 1100 and an undetectable viral load. I do have side effects from ...</td>\n",
              "    </tr>\n",
              "    <tr>\n",
              "      <th>3</th>\n",
              "      <td>Abacavir / lamivudine / zidovudine</td>\n",
              "      <td>\"I was diagnosed back in 2008 and have been on Trizivir since. My specialist mentioned it is not the newest medicine but it does the trick. One and a half years after starting it I was undetectable and have been since.\"</td>\n",
              "    </tr>\n",
              "    <tr>\n",
              "      <th>4</th>\n",
              "      <td>Abatacept</td>\n",
              "      <td>\"After rashes, pain, nausea, and elevated liver enzymes on Remicade, then Humira, the doc switched me to Orencia. Felt very tired the evening of the loading dose, but not ill. Now I feel better than I have felt in 4 years! LOVE this stuff!\" \"After the first week of using Orencia, I felt more energized. Before I would wake up feeling tired, and could barely move. I was stiff and could not go ou...</td>\n",
              "    </tr>\n",
              "  </tbody>\n",
              "</table>\n",
              "</div>"
            ],
            "text/plain": [
              "                             drugName                                                                                                                                                                                                                                                                                                                                                                                                           review\n",
              "0           A + D Cracked Skin Relief                                                                  \"I have severe cracked skin on my hands. Ive tried many different products - my skin is extremely sensitive. This product helps heal my skin, does not sting and is not greasy (important when using for hands). This is the best product Ive found for my condition, but it is hard to find - my drugstore cant even order it for me anymore.\"\n",
              "1                          A / B Otic                                             \"It numbs the pain. It makes my ear feel heavier - but at least the throbbing subsides. I always feel drowsy after the dosage. With an ear infection - sleeping is good!\" \"These drops helped me so much. I was in severe pain for 8 days before I finally found a doctor who would prescribe them to me. I went to the ER 5 days in a row before I got any relief.\"\n",
              "2               Abacavir / lamivudine  \"Epzicom, Reyataz AND Norvir triple combination. It is expensive, but ALL hiv medications are expensive and there are programs to help pay for the medicine if you have a low wage since most of these HIV medicines cost between $3000 and $10000 or more. This one in combination with Reyataz and Norvir has brought my CD4 level up to 1100 and an undetectable viral load. I do have side effects from ...\n",
              "3  Abacavir / lamivudine / zidovudine                                                                                                                                                                                      \"I was diagnosed back in 2008 and have been on Trizivir since. My specialist mentioned it is not the newest medicine but it does the trick. One and a half years after starting it I was undetectable and have been since.\"\n",
              "4                           Abatacept  \"After rashes, pain, nausea, and elevated liver enzymes on Remicade, then Humira, the doc switched me to Orencia. Felt very tired the evening of the loading dose, but not ill. Now I feel better than I have felt in 4 years! LOVE this stuff!\" \"After the first week of using Orencia, I felt more energized. Before I would wake up feeling tired, and could barely move. I was stiff and could not go ou..."
            ]
          },
          "metadata": {
            "tags": []
          },
          "execution_count": 7
        }
      ]
    },
    {
      "cell_type": "code",
      "metadata": {
        "id": "fkYP7DcUgQWW"
      },
      "source": [
        "#Counting the words present in review\r\n",
        "df1['review_wordcount'] = df1['review'].str.split().str.len()"
      ],
      "execution_count": 8,
      "outputs": []
    },
    {
      "cell_type": "code",
      "metadata": {
        "colab": {
          "base_uri": "https://localhost:8080/",
          "height": 289
        },
        "id": "7_xgD1GDg7NJ",
        "outputId": "e05d709c-95fa-4237-ef5c-3a5513228ac5"
      },
      "source": [
        "#Sorting the drugs in ascending order based on no of words\r\n",
        "sorted = df1.sort_values('review_wordcount', ascending=False)\r\n",
        "sorted.head()"
      ],
      "execution_count": 9,
      "outputs": [
        {
          "output_type": "execute_result",
          "data": {
            "text/html": [
              "<div>\n",
              "<style scoped>\n",
              "    .dataframe tbody tr th:only-of-type {\n",
              "        vertical-align: middle;\n",
              "    }\n",
              "\n",
              "    .dataframe tbody tr th {\n",
              "        vertical-align: top;\n",
              "    }\n",
              "\n",
              "    .dataframe thead th {\n",
              "        text-align: right;\n",
              "    }\n",
              "</style>\n",
              "<table border=\"1\" class=\"dataframe\">\n",
              "  <thead>\n",
              "    <tr style=\"text-align: right;\">\n",
              "      <th></th>\n",
              "      <th>drugName</th>\n",
              "      <th>review</th>\n",
              "      <th>review_wordcount</th>\n",
              "    </tr>\n",
              "  </thead>\n",
              "  <tbody>\n",
              "    <tr>\n",
              "      <th>1514</th>\n",
              "      <td>Nexplanon</td>\n",
              "      <td>\" I have been on this for 2 1/2 years now. I am going to have it removed because I have gained weight using it, my periods are heavier and longer with clots, I have become very moody, anxious and angry at the very slightest thing which I wasnt before. I get very terrible migraines with aura. I spoke to my doctor and she said she does not think these side effects could be due to the nexplanon. ...</td>\n",
              "      <td>267069</td>\n",
              "    </tr>\n",
              "    <tr>\n",
              "      <th>854</th>\n",
              "      <td>Ethinyl estradiol / norethindrone</td>\n",
              "      <td>\" Im on my 2nd round of necon 1/35. I started taking it because the doctor thinks I have endometriosis, but no one is really sure. My periods are extremely painful and I lose my appetite completely. The side effects of necon are the same as symptoms of pregnancy which is kind of alarming. Im also even more depressed and anxious than I was before I started taking it. I take it without the place...</td>\n",
              "      <td>186537</td>\n",
              "    </tr>\n",
              "    <tr>\n",
              "      <th>1248</th>\n",
              "      <td>Levonorgestrel</td>\n",
              "      <td>\" I took levonorgestrel under the brand Postinor 2 after an incident with my boyfriend. My boyfriends semen got over my vaginal area and some of it did get inside me (shallow penetration) and this was during my ovulation period. Took the first pill in 43h, second pill 12h later (postinor requires you to eat 2 pills 12h apart). 1 week after taking the pills I had a lot of vaginal discharge and ...</td>\n",
              "      <td>158176</td>\n",
              "    </tr>\n",
              "    <tr>\n",
              "      <th>1940</th>\n",
              "      <td>Sertraline</td>\n",
              "      <td>\"(Sertraline) is the most worst depression treatment for my son. The first time when my son had started to take these pills he was feeling normal but one day he started to have unusual pains which he couldnt describe in the chest which was everyday. Because of the pain he was going to A&amp;amp;E for a check up twice in a week and shockingly nothing had came up. But that pain took my precious sons...</td>\n",
              "      <td>149151</td>\n",
              "    </tr>\n",
              "    <tr>\n",
              "      <th>855</th>\n",
              "      <td>Ethinyl estradiol / norgestimate</td>\n",
              "      <td>\" Im 19 years old and started taking this birth control after my first one worked perfectly for a few months, until I began to get my period every 8 days. Ive been on this pill for about two weeks and I already hate it. Im constantly moody, depressed and over emotional. Its effecting my relationship between my family, friends and boyfriend. Doesnt help with acne, Ive never had acne till I bega...</td>\n",
              "      <td>147830</td>\n",
              "    </tr>\n",
              "  </tbody>\n",
              "</table>\n",
              "</div>"
            ],
            "text/plain": [
              "                               drugName  ... review_wordcount\n",
              "1514                          Nexplanon  ...           267069\n",
              "854   Ethinyl estradiol / norethindrone  ...           186537\n",
              "1248                     Levonorgestrel  ...           158176\n",
              "1940                         Sertraline  ...           149151\n",
              "855    Ethinyl estradiol / norgestimate  ...           147830\n",
              "\n",
              "[5 rows x 3 columns]"
            ]
          },
          "metadata": {
            "tags": []
          },
          "execution_count": 9
        }
      ]
    },
    {
      "cell_type": "code",
      "metadata": {
        "colab": {
          "base_uri": "https://localhost:8080/",
          "height": 204
        },
        "id": "VxkvVR5hg9u0",
        "outputId": "98448b7a-5641-4b38-cafb-36c8b7985fe4"
      },
      "source": [
        "#Count the average rating of each drug\r\n",
        "df2 = df.groupby('drugName')['rating'].mean().reset_index()\r\n",
        "df2.head()"
      ],
      "execution_count": 10,
      "outputs": [
        {
          "output_type": "execute_result",
          "data": {
            "text/html": [
              "<div>\n",
              "<style scoped>\n",
              "    .dataframe tbody tr th:only-of-type {\n",
              "        vertical-align: middle;\n",
              "    }\n",
              "\n",
              "    .dataframe tbody tr th {\n",
              "        vertical-align: top;\n",
              "    }\n",
              "\n",
              "    .dataframe thead th {\n",
              "        text-align: right;\n",
              "    }\n",
              "</style>\n",
              "<table border=\"1\" class=\"dataframe\">\n",
              "  <thead>\n",
              "    <tr style=\"text-align: right;\">\n",
              "      <th></th>\n",
              "      <th>drugName</th>\n",
              "      <th>rating</th>\n",
              "    </tr>\n",
              "  </thead>\n",
              "  <tbody>\n",
              "    <tr>\n",
              "      <th>0</th>\n",
              "      <td>A + D Cracked Skin Relief</td>\n",
              "      <td>10.00000</td>\n",
              "    </tr>\n",
              "    <tr>\n",
              "      <th>1</th>\n",
              "      <td>A / B Otic</td>\n",
              "      <td>10.00000</td>\n",
              "    </tr>\n",
              "    <tr>\n",
              "      <th>2</th>\n",
              "      <td>Abacavir / lamivudine</td>\n",
              "      <td>10.00000</td>\n",
              "    </tr>\n",
              "    <tr>\n",
              "      <th>3</th>\n",
              "      <td>Abacavir / lamivudine / zidovudine</td>\n",
              "      <td>9.00000</td>\n",
              "    </tr>\n",
              "    <tr>\n",
              "      <th>4</th>\n",
              "      <td>Abatacept</td>\n",
              "      <td>7.26087</td>\n",
              "    </tr>\n",
              "  </tbody>\n",
              "</table>\n",
              "</div>"
            ],
            "text/plain": [
              "                             drugName    rating\n",
              "0           A + D Cracked Skin Relief  10.00000\n",
              "1                          A / B Otic  10.00000\n",
              "2               Abacavir / lamivudine  10.00000\n",
              "3  Abacavir / lamivudine / zidovudine   9.00000\n",
              "4                           Abatacept   7.26087"
            ]
          },
          "metadata": {
            "tags": []
          },
          "execution_count": 10
        }
      ]
    },
    {
      "cell_type": "code",
      "metadata": {
        "colab": {
          "base_uri": "https://localhost:8080/",
          "height": 204
        },
        "id": "uffWcSm0hAA3",
        "outputId": "fd33c37f-e92b-4b9f-eecf-ec6b45b2f7d0"
      },
      "source": [
        "#Count the average useful count of each drug\r\n",
        "df3 = pd.DataFrame(df.groupby('drugName')['usefulCount'].mean().round().reset_index())\r\n",
        "df3.head()"
      ],
      "execution_count": 11,
      "outputs": [
        {
          "output_type": "execute_result",
          "data": {
            "text/html": [
              "<div>\n",
              "<style scoped>\n",
              "    .dataframe tbody tr th:only-of-type {\n",
              "        vertical-align: middle;\n",
              "    }\n",
              "\n",
              "    .dataframe tbody tr th {\n",
              "        vertical-align: top;\n",
              "    }\n",
              "\n",
              "    .dataframe thead th {\n",
              "        text-align: right;\n",
              "    }\n",
              "</style>\n",
              "<table border=\"1\" class=\"dataframe\">\n",
              "  <thead>\n",
              "    <tr style=\"text-align: right;\">\n",
              "      <th></th>\n",
              "      <th>drugName</th>\n",
              "      <th>usefulCount</th>\n",
              "    </tr>\n",
              "  </thead>\n",
              "  <tbody>\n",
              "    <tr>\n",
              "      <th>0</th>\n",
              "      <td>A + D Cracked Skin Relief</td>\n",
              "      <td>6.0</td>\n",
              "    </tr>\n",
              "    <tr>\n",
              "      <th>1</th>\n",
              "      <td>A / B Otic</td>\n",
              "      <td>19.0</td>\n",
              "    </tr>\n",
              "    <tr>\n",
              "      <th>2</th>\n",
              "      <td>Abacavir / lamivudine</td>\n",
              "      <td>4.0</td>\n",
              "    </tr>\n",
              "    <tr>\n",
              "      <th>3</th>\n",
              "      <td>Abacavir / lamivudine / zidovudine</td>\n",
              "      <td>1.0</td>\n",
              "    </tr>\n",
              "    <tr>\n",
              "      <th>4</th>\n",
              "      <td>Abatacept</td>\n",
              "      <td>48.0</td>\n",
              "    </tr>\n",
              "  </tbody>\n",
              "</table>\n",
              "</div>"
            ],
            "text/plain": [
              "                             drugName  usefulCount\n",
              "0           A + D Cracked Skin Relief          6.0\n",
              "1                          A / B Otic         19.0\n",
              "2               Abacavir / lamivudine          4.0\n",
              "3  Abacavir / lamivudine / zidovudine          1.0\n",
              "4                           Abatacept         48.0"
            ]
          },
          "metadata": {
            "tags": []
          },
          "execution_count": 11
        }
      ]
    },
    {
      "cell_type": "code",
      "metadata": {
        "colab": {
          "base_uri": "https://localhost:8080/",
          "height": 204
        },
        "id": "OF8f6f7ghDUF",
        "outputId": "b7b5412a-0558-4380-a075-208168ddf3bb"
      },
      "source": [
        "#Combining the all conditions in single row based on drug name \r\n",
        "drug_condition = pd.DataFrame(df.groupby('drugName')['condition'].apply(lambda x: list(np.unique(x)))).reset_index()\r\n",
        "drug_condition.tail()"
      ],
      "execution_count": 12,
      "outputs": [
        {
          "output_type": "execute_result",
          "data": {
            "text/html": [
              "<div>\n",
              "<style scoped>\n",
              "    .dataframe tbody tr th:only-of-type {\n",
              "        vertical-align: middle;\n",
              "    }\n",
              "\n",
              "    .dataframe tbody tr th {\n",
              "        vertical-align: top;\n",
              "    }\n",
              "\n",
              "    .dataframe thead th {\n",
              "        text-align: right;\n",
              "    }\n",
              "</style>\n",
              "<table border=\"1\" class=\"dataframe\">\n",
              "  <thead>\n",
              "    <tr style=\"text-align: right;\">\n",
              "      <th></th>\n",
              "      <th>drugName</th>\n",
              "      <th>condition</th>\n",
              "    </tr>\n",
              "  </thead>\n",
              "  <tbody>\n",
              "    <tr>\n",
              "      <th>2330</th>\n",
              "      <td>Zyrtec-D</td>\n",
              "      <td>[4&lt;/span&gt; users found this comment helpful., Allergic Rhinitis]</td>\n",
              "    </tr>\n",
              "    <tr>\n",
              "      <th>2331</th>\n",
              "      <td>Zyvox</td>\n",
              "      <td>[Bacteremia, Bacterial Infection, Methicillin-Resistant Staphylococcus Aureus Infection, Pneumonia, Skin and Structure Infection]</td>\n",
              "    </tr>\n",
              "    <tr>\n",
              "      <th>2332</th>\n",
              "      <td>ZzzQuil</td>\n",
              "      <td>[Insomnia]</td>\n",
              "    </tr>\n",
              "    <tr>\n",
              "      <th>2333</th>\n",
              "      <td>femhrt</td>\n",
              "      <td>[0&lt;/span&gt; users found this comment helpful., Acne, Menstrual Disorders, Postmenopausal Symptoms]</td>\n",
              "    </tr>\n",
              "    <tr>\n",
              "      <th>2334</th>\n",
              "      <td>pHisoHex</td>\n",
              "      <td>[Skin Disinfection, Preoperative]</td>\n",
              "    </tr>\n",
              "  </tbody>\n",
              "</table>\n",
              "</div>"
            ],
            "text/plain": [
              "      drugName                                                                                                                          condition\n",
              "2330  Zyrtec-D                                                                    [4</span> users found this comment helpful., Allergic Rhinitis]\n",
              "2331     Zyvox  [Bacteremia, Bacterial Infection, Methicillin-Resistant Staphylococcus Aureus Infection, Pneumonia, Skin and Structure Infection]\n",
              "2332   ZzzQuil                                                                                                                         [Insomnia]\n",
              "2333    femhrt                                   [0</span> users found this comment helpful., Acne, Menstrual Disorders, Postmenopausal Symptoms]\n",
              "2334  pHisoHex                                                                                                  [Skin Disinfection, Preoperative]"
            ]
          },
          "metadata": {
            "tags": []
          },
          "execution_count": 12
        }
      ]
    },
    {
      "cell_type": "code",
      "metadata": {
        "colab": {
          "base_uri": "https://localhost:8080/"
        },
        "id": "6VkcooiChHLK",
        "outputId": "ab21e59e-843b-41de-acdb-6535466086b2"
      },
      "source": [
        "import nltk\r\n",
        "nltk.download('punkt')\r\n",
        "df4 = pd.DataFrame(df.groupby('drugName')['condition'].apply(' '.join).reset_index())\r\n",
        "df4.head()\r\n",
        "df4['condition'] = df4.apply(lambda row: nltk.word_tokenize(row['condition']), axis=1)"
      ],
      "execution_count": 13,
      "outputs": [
        {
          "output_type": "stream",
          "text": [
            "[nltk_data] Downloading package punkt to /root/nltk_data...\n",
            "[nltk_data]   Package punkt is already up-to-date!\n"
          ],
          "name": "stdout"
        }
      ]
    },
    {
      "cell_type": "code",
      "metadata": {
        "colab": {
          "base_uri": "https://localhost:8080/",
          "height": 357
        },
        "id": "0A-ZZyIjhJ3p",
        "outputId": "40ea53a7-2a80-4b8c-d27b-ed90ee129b57"
      },
      "source": [
        "#Combining the col and make the final dataset in which all reviews are in single row \r\n",
        "data = pd.concat([df1.drugName,drug_condition.condition,df1.review, df2.rating, df3.usefulCount, df1.review_wordcount], axis = 1)\r\n",
        "data.tail()"
      ],
      "execution_count": 14,
      "outputs": [
        {
          "output_type": "execute_result",
          "data": {
            "text/html": [
              "<div>\n",
              "<style scoped>\n",
              "    .dataframe tbody tr th:only-of-type {\n",
              "        vertical-align: middle;\n",
              "    }\n",
              "\n",
              "    .dataframe tbody tr th {\n",
              "        vertical-align: top;\n",
              "    }\n",
              "\n",
              "    .dataframe thead th {\n",
              "        text-align: right;\n",
              "    }\n",
              "</style>\n",
              "<table border=\"1\" class=\"dataframe\">\n",
              "  <thead>\n",
              "    <tr style=\"text-align: right;\">\n",
              "      <th></th>\n",
              "      <th>drugName</th>\n",
              "      <th>condition</th>\n",
              "      <th>review</th>\n",
              "      <th>rating</th>\n",
              "      <th>usefulCount</th>\n",
              "      <th>review_wordcount</th>\n",
              "    </tr>\n",
              "  </thead>\n",
              "  <tbody>\n",
              "    <tr>\n",
              "      <th>2330</th>\n",
              "      <td>Zyrtec-D</td>\n",
              "      <td>[4&lt;/span&gt; users found this comment helpful., Allergic Rhinitis]</td>\n",
              "      <td>\"had tried claritin-d, and others prior to finding Zyrtec-D. I have now used it for a number of years, and find it difficult to breath without it. Works very well for me, while nothing else that I could find has.\" \"This medicine works better than any other allergy medication with decongestion that I have ever tried.\"</td>\n",
              "      <td>9.000000</td>\n",
              "      <td>13.0</td>\n",
              "      <td>56</td>\n",
              "    </tr>\n",
              "    <tr>\n",
              "      <th>2331</th>\n",
              "      <td>Zyvox</td>\n",
              "      <td>[Bacteremia, Bacterial Infection, Methicillin-Resistant Staphylococcus Aureus Infection, Pneumonia, Skin and Structure Infection]</td>\n",
              "      <td>\"7 day treatment worked well on an infection that lasted over 5 months\" \"After having arthroscopic knee surgery, I developed a persistent skin infection (cellulitis) at the surgery site. I spent a month on different antibiotics that didnt clear the infection (cephalexin, clindamycin, and ciprofloxacin) and was finally admitted to the hospital for another surgery and treatment with IV antibioti...</td>\n",
              "      <td>8.714286</td>\n",
              "      <td>21.0</td>\n",
              "      <td>1494</td>\n",
              "    </tr>\n",
              "    <tr>\n",
              "      <th>2332</th>\n",
              "      <td>ZzzQuil</td>\n",
              "      <td>[Insomnia]</td>\n",
              "      <td>\"Gave me rapid heart beats !!!!!!!!!\" \"I purchased the zzzquil and it did not work not 1 bit , I would not recommended medication to anyone...\" \"I usually work a 10 hr shift in the afternoon but my boss has changed my Saturday shift to 5am-1pm. We live on a farm and have 3 outside dogs that like to bark at night. The first morning shift I only got 2 hrs sleep because of our dogs. I purchased Z...</td>\n",
              "      <td>2.000000</td>\n",
              "      <td>7.0</td>\n",
              "      <td>139</td>\n",
              "    </tr>\n",
              "    <tr>\n",
              "      <th>2333</th>\n",
              "      <td>femhrt</td>\n",
              "      <td>[0&lt;/span&gt; users found this comment helpful., Acne, Menstrual Disorders, Postmenopausal Symptoms]</td>\n",
              "      <td>\"femhrt took away my hot flashes within a week but the acne was unbearable. Stopped taking it.\" \"Femhrt worked wonderful. Had to wait a couple of months for the full effect so give it time. The only downfall is that it is expensive and does not have a generic.\" \"Hot flashes completely gone in less than 2 weeks. Works great.\" \"I was on femHRT for four months and had BV (bacterial vaginitis) all...</td>\n",
              "      <td>6.500000</td>\n",
              "      <td>14.0</td>\n",
              "      <td>263</td>\n",
              "    </tr>\n",
              "    <tr>\n",
              "      <th>2334</th>\n",
              "      <td>pHisoHex</td>\n",
              "      <td>[Skin Disinfection, Preoperative]</td>\n",
              "      <td>\"Before Phisohex could only be purchased by prescription, I used it regullarly for feminine hygenine. The product worked perfect, was long lasting, and I never had any side affects. I used Phisohex from 1966 until, much to my dismay, it was taken off my druggist over the counter shelves and could only be purchased with a prescription. Would still be using it if I could. Wonderful solution!\"</td>\n",
              "      <td>10.000000</td>\n",
              "      <td>0.0</td>\n",
              "      <td>67</td>\n",
              "    </tr>\n",
              "  </tbody>\n",
              "</table>\n",
              "</div>"
            ],
            "text/plain": [
              "      drugName  ... review_wordcount\n",
              "2330  Zyrtec-D  ...               56\n",
              "2331     Zyvox  ...             1494\n",
              "2332   ZzzQuil  ...              139\n",
              "2333    femhrt  ...              263\n",
              "2334  pHisoHex  ...               67\n",
              "\n",
              "[5 rows x 6 columns]"
            ]
          },
          "metadata": {
            "tags": []
          },
          "execution_count": 14
        }
      ]
    },
    {
      "cell_type": "code",
      "metadata": {
        "colab": {
          "base_uri": "https://localhost:8080/",
          "height": 357
        },
        "id": "_5lykHJFhTRq",
        "outputId": "3717c700-835c-4dce-c54c-4d58c7782e2e"
      },
      "source": [
        "#Import the textblob for calculate the polarity\r\n",
        "from textblob import TextBlob\r\n",
        "data['polarity'] = data['review'].apply(lambda x: TextBlob(x).sentiment.polarity)\r\n",
        "data.tail()"
      ],
      "execution_count": 16,
      "outputs": [
        {
          "output_type": "execute_result",
          "data": {
            "text/html": [
              "<div>\n",
              "<style scoped>\n",
              "    .dataframe tbody tr th:only-of-type {\n",
              "        vertical-align: middle;\n",
              "    }\n",
              "\n",
              "    .dataframe tbody tr th {\n",
              "        vertical-align: top;\n",
              "    }\n",
              "\n",
              "    .dataframe thead th {\n",
              "        text-align: right;\n",
              "    }\n",
              "</style>\n",
              "<table border=\"1\" class=\"dataframe\">\n",
              "  <thead>\n",
              "    <tr style=\"text-align: right;\">\n",
              "      <th></th>\n",
              "      <th>drugName</th>\n",
              "      <th>condition</th>\n",
              "      <th>review</th>\n",
              "      <th>rating</th>\n",
              "      <th>usefulCount</th>\n",
              "      <th>review_wordcount</th>\n",
              "      <th>polarity</th>\n",
              "    </tr>\n",
              "  </thead>\n",
              "  <tbody>\n",
              "    <tr>\n",
              "      <th>2329</th>\n",
              "      <td>Zyrtec</td>\n",
              "      <td>[7&lt;/span&gt; users found this comment helpful., 9&lt;/span&gt; users found this comment helpful., Allergic Rhinitis, Urticaria]</td>\n",
              "      <td>\"52 y/o Well I have had hives for 2 almost 3 weeks now on my face scalp neck..because undermined and I never had them before. I was put on pred-Metra-soul pack that I quit due to the extreme side effects. A sedative. I used a heap of ear and eye drops. Was taking Benadryll. I just wanted to claw my skin off..the welts were painful and then became HORRIBLY insanely itchy. One or three would go ...</td>\n",
              "      <td>7.141304</td>\n",
              "      <td>25.0</td>\n",
              "      <td>5795</td>\n",
              "      <td>0.091117</td>\n",
              "    </tr>\n",
              "    <tr>\n",
              "      <th>2330</th>\n",
              "      <td>Zyrtec-D</td>\n",
              "      <td>[4&lt;/span&gt; users found this comment helpful., Allergic Rhinitis]</td>\n",
              "      <td>\"had tried claritin-d, and others prior to finding Zyrtec-D. I have now used it for a number of years, and find it difficult to breath without it. Works very well for me, while nothing else that I could find has.\" \"This medicine works better than any other allergy medication with decongestion that I have ever tried.\"</td>\n",
              "      <td>9.000000</td>\n",
              "      <td>13.0</td>\n",
              "      <td>56</td>\n",
              "      <td>0.015000</td>\n",
              "    </tr>\n",
              "    <tr>\n",
              "      <th>2331</th>\n",
              "      <td>Zyvox</td>\n",
              "      <td>[Bacteremia, Bacterial Infection, Methicillin-Resistant Staphylococcus Aureus Infection, Pneumonia, Skin and Structure Infection]</td>\n",
              "      <td>\"7 day treatment worked well on an infection that lasted over 5 months\" \"After having arthroscopic knee surgery, I developed a persistent skin infection (cellulitis) at the surgery site. I spent a month on different antibiotics that didnt clear the infection (cephalexin, clindamycin, and ciprofloxacin) and was finally admitted to the hospital for another surgery and treatment with IV antibioti...</td>\n",
              "      <td>8.714286</td>\n",
              "      <td>21.0</td>\n",
              "      <td>1494</td>\n",
              "      <td>-0.048765</td>\n",
              "    </tr>\n",
              "    <tr>\n",
              "      <th>2332</th>\n",
              "      <td>ZzzQuil</td>\n",
              "      <td>[Insomnia]</td>\n",
              "      <td>\"Gave me rapid heart beats !!!!!!!!!\" \"I purchased the zzzquil and it did not work not 1 bit , I would not recommended medication to anyone...\" \"I usually work a 10 hr shift in the afternoon but my boss has changed my Saturday shift to 5am-1pm. We live on a farm and have 3 outside dogs that like to bark at night. The first morning shift I only got 2 hrs sleep because of our dogs. I purchased Z...</td>\n",
              "      <td>2.000000</td>\n",
              "      <td>7.0</td>\n",
              "      <td>139</td>\n",
              "      <td>0.078283</td>\n",
              "    </tr>\n",
              "    <tr>\n",
              "      <th>2333</th>\n",
              "      <td>femhrt</td>\n",
              "      <td>[0&lt;/span&gt; users found this comment helpful., Acne, Menstrual Disorders, Postmenopausal Symptoms]</td>\n",
              "      <td>\"femhrt took away my hot flashes within a week but the acne was unbearable. Stopped taking it.\" \"Femhrt worked wonderful. Had to wait a couple of months for the full effect so give it time. The only downfall is that it is expensive and does not have a generic.\" \"Hot flashes completely gone in less than 2 weeks. Works great.\" \"I was on femHRT for four months and had BV (bacterial vaginitis) all...</td>\n",
              "      <td>6.500000</td>\n",
              "      <td>14.0</td>\n",
              "      <td>263</td>\n",
              "      <td>0.067333</td>\n",
              "    </tr>\n",
              "  </tbody>\n",
              "</table>\n",
              "</div>"
            ],
            "text/plain": [
              "      drugName  ...  polarity\n",
              "2329    Zyrtec  ...  0.091117\n",
              "2330  Zyrtec-D  ...  0.015000\n",
              "2331     Zyvox  ... -0.048765\n",
              "2332   ZzzQuil  ...  0.078283\n",
              "2333    femhrt  ...  0.067333\n",
              "\n",
              "[5 rows x 7 columns]"
            ]
          },
          "metadata": {
            "tags": []
          },
          "execution_count": 16
        }
      ]
    },
    {
      "cell_type": "code",
      "metadata": {
        "id": "OPgN2U2QhWQV"
      },
      "source": [
        "#Import the csv file which has 1.77 lakhs side effects and symptoms\r\n",
        "side_effects = pd.read_csv('drive/My Drive/CSV_Files/sideeffects.csv', encoding = 'ISO-8859-1')\r\n",
        "side_effects = side_effects['Side Effect Name']"
      ],
      "execution_count": 17,
      "outputs": []
    },
    {
      "cell_type": "code",
      "metadata": {
        "id": "_vOtrPJwiE9e"
      },
      "source": [
        "#Function to find side effect from reviews\r\n",
        "\r\n",
        "def Side_Effect(Review):\r\n",
        "    s_word=[]\r\n",
        "    for w in side_effects:\r\n",
        "        if w in Review:\r\n",
        "            s_word.append(w)\r\n",
        "    return s_word\r\n",
        "    \r\n",
        "\r\n",
        "Sf = lambda x: Side_Effect(x)"
      ],
      "execution_count": 18,
      "outputs": []
    },
    {
      "cell_type": "code",
      "metadata": {
        "id": "8RPmXykiiF2R"
      },
      "source": [
        "#Store the side effects into dataframe\r\n",
        "#As there are almost 2400 records so it will take approx 1.5 hrs to execute this function\r\n",
        "data['Side_Effect'] = data.review.apply(Sf)"
      ],
      "execution_count": 19,
      "outputs": []
    },
    {
      "cell_type": "code",
      "metadata": {
        "id": "9w1vVqZYiIjD"
      },
      "source": [
        "#Removing the duplicate side effects\r\n",
        "data['Side_Effect'] = data['Side_Effect'].map(lambda x: list(set(x)))"
      ],
      "execution_count": 20,
      "outputs": []
    },
    {
      "cell_type": "code",
      "metadata": {
        "id": "jebExbaHiMUG"
      },
      "source": [
        "#Calculating the effectiveness using drug rating and polarity of reviews\r\n",
        "data['effectiveness'] = data['rating']*0.07 + data['polarity']*0.3\r\n",
        "data['effectiveness'] = data['effectiveness'].map(lambda n: '{:.2%}'.format(n))"
      ],
      "execution_count": 21,
      "outputs": []
    },
    {
      "cell_type": "code",
      "metadata": {
        "id": "xYax3mrAiOja"
      },
      "source": [
        "#Functions to find positive words in the review\r\n",
        "\r\n",
        "import string\r\n",
        "def Effective_Review(Review):\r\n",
        "    Pos_Word=[]\r\n",
        "    Review=Review.split(\".\")\r\n",
        "    for word in Review:\r\n",
        "        tb = TextBlob(word)\r\n",
        "        if tb.sentiment.polarity >= 0.7:\r\n",
        "            Pos_Word.append(word)\r\n",
        "    return Pos_Word\r\n",
        "\r\n",
        "Effective = lambda x: Effective_Review(x)"
      ],
      "execution_count": 22,
      "outputs": []
    },
    {
      "cell_type": "code",
      "metadata": {
        "id": "rIX6XhJWiR4o"
      },
      "source": [
        "data['Pos_Sent'] = data.review.apply(Effective)\r\n"
      ],
      "execution_count": 23,
      "outputs": []
    },
    {
      "cell_type": "code",
      "metadata": {
        "id": "RrH5dyyoiUXO"
      },
      "source": [
        "#Functions to find negative words in the review\r\n",
        "def Not_Effective_Review(Review):\r\n",
        "    Neg_Word=[]\r\n",
        "    Review=Review.split(\".\")\r\n",
        "    for word in Review:\r\n",
        "        tb = TextBlob(word)\r\n",
        "        if tb.sentiment.polarity <= -0.7:\r\n",
        "            Neg_Word.append(word)\r\n",
        "    return Neg_Word\r\n",
        "\r\n",
        "Not_Effective = lambda x: Not_Effective_Review(x)"
      ],
      "execution_count": null,
      "outputs": []
    },
    {
      "cell_type": "code",
      "metadata": {
        "id": "q0OxPKa8iXWT"
      },
      "source": [
        "data['Neg_Sent'] = data.review.apply(Not_Effective)"
      ],
      "execution_count": null,
      "outputs": []
    },
    {
      "cell_type": "code",
      "metadata": {
        "colab": {
          "base_uri": "https://localhost:8080/",
          "height": 816
        },
        "id": "zrU7yzav4f2v",
        "outputId": "19500a36-48d5-4805-d721-4e221476e206"
      },
      "source": [
        "data.tail()"
      ],
      "execution_count": 26,
      "outputs": [
        {
          "output_type": "execute_result",
          "data": {
            "text/html": [
              "<div>\n",
              "<style scoped>\n",
              "    .dataframe tbody tr th:only-of-type {\n",
              "        vertical-align: middle;\n",
              "    }\n",
              "\n",
              "    .dataframe tbody tr th {\n",
              "        vertical-align: top;\n",
              "    }\n",
              "\n",
              "    .dataframe thead th {\n",
              "        text-align: right;\n",
              "    }\n",
              "</style>\n",
              "<table border=\"1\" class=\"dataframe\">\n",
              "  <thead>\n",
              "    <tr style=\"text-align: right;\">\n",
              "      <th></th>\n",
              "      <th>drugName</th>\n",
              "      <th>condition</th>\n",
              "      <th>review</th>\n",
              "      <th>rating</th>\n",
              "      <th>usefulCount</th>\n",
              "      <th>review_wordcount</th>\n",
              "      <th>polarity</th>\n",
              "      <th>Side_Effect</th>\n",
              "      <th>effectiveness</th>\n",
              "      <th>Pos_Sent</th>\n",
              "      <th>Neg_Sent</th>\n",
              "    </tr>\n",
              "  </thead>\n",
              "  <tbody>\n",
              "    <tr>\n",
              "      <th>2329</th>\n",
              "      <td>Zyrtec</td>\n",
              "      <td>[7&lt;/span&gt; users found this comment helpful., 9&lt;/span&gt; users found this comment helpful., Allergic Rhinitis, Urticaria]</td>\n",
              "      <td>\"52 y/o Well I have had hives for 2 almost 3 weeks now on my face scalp neck..because undermined and I never had them before. I was put on pred-Metra-soul pack that I quit due to the extreme side effects. A sedative. I used a heap of ear and eye drops. Was taking Benadryll. I just wanted to claw my skin off..the welts were painful and then became HORRIBLY insanely itchy. One or three would go ...</td>\n",
              "      <td>7.141304</td>\n",
              "      <td>25.0</td>\n",
              "      <td>5795</td>\n",
              "      <td>0.091117</td>\n",
              "      <td>[red blotches, cough, Urticaria, stress, ache, aversion, anger, fall, lethargy, nightmare, withdraw, fever, bite, sneeze, pain, fatigue, groggy, flare, drowsiness, weight gain, swelling, elation, sleepy, headache, welt, scratch, sniffle, tired, autoimmune disorder, idiopathic urticaria]</td>\n",
              "      <td>52.72%</td>\n",
              "      <td>[ Felt good! ITCHING STOPPED,  No drowsiness is the best part,  Anyhow now im researching what to take for mango skin allergy, I have Allegra which isnt as good and since I dont work now Im going to take Zyrtec for it after reading the reviews on it,  I give Zyrtec 8 stars BC it is a great otc fix for allergies,  They were very effective on me, feeling great,  Great product,  I am happy to say...</td>\n",
              "      <td>[the welts were painful and then became HORRIBLY insanely itchy,  Terrible,  I just got done with a horrible case from penicillin, HATE HATE HATE THE PACKAGING,  The horrible migraines were withdrawal symptoms! I immediately stopped giving it to my kids and taking it myself,  It took a couple weeks to get through the worst of it, but I am still itching after a month]</td>\n",
              "    </tr>\n",
              "    <tr>\n",
              "      <th>2330</th>\n",
              "      <td>Zyrtec-D</td>\n",
              "      <td>[4&lt;/span&gt; users found this comment helpful., Allergic Rhinitis]</td>\n",
              "      <td>\"had tried claritin-d, and others prior to finding Zyrtec-D. I have now used it for a number of years, and find it difficult to breath without it. Works very well for me, while nothing else that I could find has.\" \"This medicine works better than any other allergy medication with decongestion that I have ever tried.\"</td>\n",
              "      <td>9.000000</td>\n",
              "      <td>13.0</td>\n",
              "      <td>56</td>\n",
              "      <td>0.015000</td>\n",
              "      <td>[]</td>\n",
              "      <td>63.45%</td>\n",
              "      <td>[]</td>\n",
              "      <td>[]</td>\n",
              "    </tr>\n",
              "    <tr>\n",
              "      <th>2331</th>\n",
              "      <td>Zyvox</td>\n",
              "      <td>[Bacteremia, Bacterial Infection, Methicillin-Resistant Staphylococcus Aureus Infection, Pneumonia, Skin and Structure Infection]</td>\n",
              "      <td>\"7 day treatment worked well on an infection that lasted over 5 months\" \"After having arthroscopic knee surgery, I developed a persistent skin infection (cellulitis) at the surgery site. I spent a month on different antibiotics that didnt clear the infection (cephalexin, clindamycin, and ciprofloxacin) and was finally admitted to the hospital for another surgery and treatment with IV antibioti...</td>\n",
              "      <td>8.714286</td>\n",
              "      <td>21.0</td>\n",
              "      <td>1494</td>\n",
              "      <td>-0.048765</td>\n",
              "      <td>[Sepsis, chill, fever, headache, pain, surgery, swelling, tired, Influenza, vomiting, nausea, dizziness, diarrhea, ache, bone infection, sleepy, wound, open wound]</td>\n",
              "      <td>59.54%</td>\n",
              "      <td>[ If this works then its an amazing, wonderful drug,  It was however very effective]</td>\n",
              "      <td>[ It is a very unpleasant feeling,  It was the worst 2 weeks of my life,  Weakness, I felt horrible,  My doctor keeps on eye on me but the brown tongue and funky taste is disgusting]</td>\n",
              "    </tr>\n",
              "    <tr>\n",
              "      <th>2332</th>\n",
              "      <td>ZzzQuil</td>\n",
              "      <td>[Insomnia]</td>\n",
              "      <td>\"Gave me rapid heart beats !!!!!!!!!\" \"I purchased the zzzquil and it did not work not 1 bit , I would not recommended medication to anyone...\" \"I usually work a 10 hr shift in the afternoon but my boss has changed my Saturday shift to 5am-1pm. We live on a farm and have 3 outside dogs that like to bark at night. The first morning shift I only got 2 hrs sleep because of our dogs. I purchased Z...</td>\n",
              "      <td>2.000000</td>\n",
              "      <td>7.0</td>\n",
              "      <td>139</td>\n",
              "      <td>0.078283</td>\n",
              "      <td>[fall]</td>\n",
              "      <td>16.35%</td>\n",
              "      <td>[]</td>\n",
              "      <td>[]</td>\n",
              "    </tr>\n",
              "    <tr>\n",
              "      <th>2333</th>\n",
              "      <td>femhrt</td>\n",
              "      <td>[0&lt;/span&gt; users found this comment helpful., Acne, Menstrual Disorders, Postmenopausal Symptoms]</td>\n",
              "      <td>\"femhrt took away my hot flashes within a week but the acne was unbearable. Stopped taking it.\" \"Femhrt worked wonderful. Had to wait a couple of months for the full effect so give it time. The only downfall is that it is expensive and does not have a generic.\" \"Hot flashes completely gone in less than 2 weeks. Works great.\" \"I was on femHRT for four months and had BV (bacterial vaginitis) all...</td>\n",
              "      <td>6.500000</td>\n",
              "      <td>14.0</td>\n",
              "      <td>263</td>\n",
              "      <td>0.067333</td>\n",
              "      <td>[birth control, bedridden, fall, pain]</td>\n",
              "      <td>47.52%</td>\n",
              "      <td>[\" \"Femhrt worked wonderful,  Works great]</td>\n",
              "      <td>[it worked well for symptom management but the side effect was horrible]</td>\n",
              "    </tr>\n",
              "  </tbody>\n",
              "</table>\n",
              "</div>"
            ],
            "text/plain": [
              "      drugName  ...                                                                                                                                                                                                                                                                                                                                                                           Neg_Sent\n",
              "2329    Zyrtec  ...  [the welts were painful and then became HORRIBLY insanely itchy,  Terrible,  I just got done with a horrible case from penicillin, HATE HATE HATE THE PACKAGING,  The horrible migraines were withdrawal symptoms! I immediately stopped giving it to my kids and taking it myself,  It took a couple weeks to get through the worst of it, but I am still itching after a month]\n",
              "2330  Zyrtec-D  ...                                                                                                                                                                                                                                                                                                                                                                                 []\n",
              "2331     Zyvox  ...                                                                                                                                                                                             [ It is a very unpleasant feeling,  It was the worst 2 weeks of my life,  Weakness, I felt horrible,  My doctor keeps on eye on me but the brown tongue and funky taste is disgusting]\n",
              "2332   ZzzQuil  ...                                                                                                                                                                                                                                                                                                                                                                                 []\n",
              "2333    femhrt  ...                                                                                                                                                                                                                                                                                                           [it worked well for symptom management but the side effect was horrible]\n",
              "\n",
              "[5 rows x 11 columns]"
            ]
          },
          "metadata": {
            "tags": []
          },
          "execution_count": 26
        }
      ]
    },
    {
      "cell_type": "code",
      "metadata": {
        "id": "KWQx0hQGiZ2Y"
      },
      "source": [
        "#Removing unnecessary brackets from each col\r\n",
        "data['condition'] = data['condition'].apply(lambda x:', '.join([i for i in x \r\n",
        "                                                  if i not in string.punctuation]))"
      ],
      "execution_count": null,
      "outputs": []
    },
    {
      "cell_type": "code",
      "metadata": {
        "id": "y0fRZF6jicBl"
      },
      "source": [
        "data['Side_Effect'] = data['Side_Effect'].apply(lambda x:', '.join([i for i in x \r\n",
        "                                                  if i not in string.punctuation]))"
      ],
      "execution_count": null,
      "outputs": []
    },
    {
      "cell_type": "code",
      "metadata": {
        "id": "yY_Z97hIifXt"
      },
      "source": [
        "data['Pos_Sent'] = data['Pos_Sent'].apply(lambda x:', '.join([i for i in x \r\n",
        "                                                  if i not in string.punctuation]))"
      ],
      "execution_count": null,
      "outputs": []
    },
    {
      "cell_type": "code",
      "metadata": {
        "id": "G26ljyGWii0z"
      },
      "source": [
        "data['Neg_Sent'] = data['Neg_Sent'].apply(lambda x:', '.join([i for i in x \r\n",
        "                                                  if i not in string.punctuation]))"
      ],
      "execution_count": null,
      "outputs": []
    },
    {
      "cell_type": "code",
      "metadata": {
        "colab": {
          "base_uri": "https://localhost:8080/",
          "height": 816
        },
        "id": "pQXgkupVileF",
        "outputId": "851575a8-7720-48c5-d23a-61d9f23ff00f"
      },
      "source": [
        "data.tail()"
      ],
      "execution_count": 31,
      "outputs": [
        {
          "output_type": "execute_result",
          "data": {
            "text/html": [
              "<div>\n",
              "<style scoped>\n",
              "    .dataframe tbody tr th:only-of-type {\n",
              "        vertical-align: middle;\n",
              "    }\n",
              "\n",
              "    .dataframe tbody tr th {\n",
              "        vertical-align: top;\n",
              "    }\n",
              "\n",
              "    .dataframe thead th {\n",
              "        text-align: right;\n",
              "    }\n",
              "</style>\n",
              "<table border=\"1\" class=\"dataframe\">\n",
              "  <thead>\n",
              "    <tr style=\"text-align: right;\">\n",
              "      <th></th>\n",
              "      <th>drugName</th>\n",
              "      <th>condition</th>\n",
              "      <th>review</th>\n",
              "      <th>rating</th>\n",
              "      <th>usefulCount</th>\n",
              "      <th>review_wordcount</th>\n",
              "      <th>polarity</th>\n",
              "      <th>Side_Effect</th>\n",
              "      <th>effectiveness</th>\n",
              "      <th>Pos_Sent</th>\n",
              "      <th>Neg_Sent</th>\n",
              "    </tr>\n",
              "  </thead>\n",
              "  <tbody>\n",
              "    <tr>\n",
              "      <th>2329</th>\n",
              "      <td>Zyrtec</td>\n",
              "      <td>7&lt;/span&gt; users found this comment helpful., 9&lt;/span&gt; users found this comment helpful., Allergic Rhinitis, Urticaria</td>\n",
              "      <td>\"52 y/o Well I have had hives for 2 almost 3 weeks now on my face scalp neck..because undermined and I never had them before. I was put on pred-Metra-soul pack that I quit due to the extreme side effects. A sedative. I used a heap of ear and eye drops. Was taking Benadryll. I just wanted to claw my skin off..the welts were painful and then became HORRIBLY insanely itchy. One or three would go ...</td>\n",
              "      <td>7.141304</td>\n",
              "      <td>25.0</td>\n",
              "      <td>5795</td>\n",
              "      <td>0.091117</td>\n",
              "      <td>red blotches, cough, Urticaria, stress, ache, aversion, anger, fall, lethargy, nightmare, withdraw, fever, bite, sneeze, pain, fatigue, groggy, flare, drowsiness, weight gain, swelling, elation, sleepy, headache, welt, scratch, sniffle, tired, autoimmune disorder, idiopathic urticaria</td>\n",
              "      <td>52.72%</td>\n",
              "      <td>Felt good! ITCHING STOPPED,  No drowsiness is the best part,  Anyhow now im researching what to take for mango skin allergy, I have Allegra which isnt as good and since I dont work now Im going to take Zyrtec for it after reading the reviews on it,  I give Zyrtec 8 stars BC it is a great otc fix for allergies,  They were very effective on me, feeling great,  Great product,  I am happy to say,...</td>\n",
              "      <td>the welts were painful and then became HORRIBLY insanely itchy,  Terrible,  I just got done with a horrible case from penicillin, HATE HATE HATE THE PACKAGING,  The horrible migraines were withdrawal symptoms! I immediately stopped giving it to my kids and taking it myself,  It took a couple weeks to get through the worst of it, but I am still itching after a month</td>\n",
              "    </tr>\n",
              "    <tr>\n",
              "      <th>2330</th>\n",
              "      <td>Zyrtec-D</td>\n",
              "      <td>4&lt;/span&gt; users found this comment helpful., Allergic Rhinitis</td>\n",
              "      <td>\"had tried claritin-d, and others prior to finding Zyrtec-D. I have now used it for a number of years, and find it difficult to breath without it. Works very well for me, while nothing else that I could find has.\" \"This medicine works better than any other allergy medication with decongestion that I have ever tried.\"</td>\n",
              "      <td>9.000000</td>\n",
              "      <td>13.0</td>\n",
              "      <td>56</td>\n",
              "      <td>0.015000</td>\n",
              "      <td></td>\n",
              "      <td>63.45%</td>\n",
              "      <td></td>\n",
              "      <td></td>\n",
              "    </tr>\n",
              "    <tr>\n",
              "      <th>2331</th>\n",
              "      <td>Zyvox</td>\n",
              "      <td>Bacteremia, Bacterial Infection, Methicillin-Resistant Staphylococcus Aureus Infection, Pneumonia, Skin and Structure Infection</td>\n",
              "      <td>\"7 day treatment worked well on an infection that lasted over 5 months\" \"After having arthroscopic knee surgery, I developed a persistent skin infection (cellulitis) at the surgery site. I spent a month on different antibiotics that didnt clear the infection (cephalexin, clindamycin, and ciprofloxacin) and was finally admitted to the hospital for another surgery and treatment with IV antibioti...</td>\n",
              "      <td>8.714286</td>\n",
              "      <td>21.0</td>\n",
              "      <td>1494</td>\n",
              "      <td>-0.048765</td>\n",
              "      <td>Sepsis, chill, fever, headache, pain, surgery, swelling, tired, Influenza, vomiting, nausea, dizziness, diarrhea, ache, bone infection, sleepy, wound, open wound</td>\n",
              "      <td>59.54%</td>\n",
              "      <td>If this works then its an amazing, wonderful drug,  It was however very effective</td>\n",
              "      <td>It is a very unpleasant feeling,  It was the worst 2 weeks of my life,  Weakness, I felt horrible,  My doctor keeps on eye on me but the brown tongue and funky taste is disgusting</td>\n",
              "    </tr>\n",
              "    <tr>\n",
              "      <th>2332</th>\n",
              "      <td>ZzzQuil</td>\n",
              "      <td>Insomnia</td>\n",
              "      <td>\"Gave me rapid heart beats !!!!!!!!!\" \"I purchased the zzzquil and it did not work not 1 bit , I would not recommended medication to anyone...\" \"I usually work a 10 hr shift in the afternoon but my boss has changed my Saturday shift to 5am-1pm. We live on a farm and have 3 outside dogs that like to bark at night. The first morning shift I only got 2 hrs sleep because of our dogs. I purchased Z...</td>\n",
              "      <td>2.000000</td>\n",
              "      <td>7.0</td>\n",
              "      <td>139</td>\n",
              "      <td>0.078283</td>\n",
              "      <td>fall</td>\n",
              "      <td>16.35%</td>\n",
              "      <td></td>\n",
              "      <td></td>\n",
              "    </tr>\n",
              "    <tr>\n",
              "      <th>2333</th>\n",
              "      <td>femhrt</td>\n",
              "      <td>0&lt;/span&gt; users found this comment helpful., Acne, Menstrual Disorders, Postmenopausal Symptoms</td>\n",
              "      <td>\"femhrt took away my hot flashes within a week but the acne was unbearable. Stopped taking it.\" \"Femhrt worked wonderful. Had to wait a couple of months for the full effect so give it time. The only downfall is that it is expensive and does not have a generic.\" \"Hot flashes completely gone in less than 2 weeks. Works great.\" \"I was on femHRT for four months and had BV (bacterial vaginitis) all...</td>\n",
              "      <td>6.500000</td>\n",
              "      <td>14.0</td>\n",
              "      <td>263</td>\n",
              "      <td>0.067333</td>\n",
              "      <td>birth control, bedridden, fall, pain</td>\n",
              "      <td>47.52%</td>\n",
              "      <td>\" \"Femhrt worked wonderful,  Works great</td>\n",
              "      <td>it worked well for symptom management but the side effect was horrible</td>\n",
              "    </tr>\n",
              "  </tbody>\n",
              "</table>\n",
              "</div>"
            ],
            "text/plain": [
              "      drugName  ...                                                                                                                                                                                                                                                                                                                                                                         Neg_Sent\n",
              "2329    Zyrtec  ...  the welts were painful and then became HORRIBLY insanely itchy,  Terrible,  I just got done with a horrible case from penicillin, HATE HATE HATE THE PACKAGING,  The horrible migraines were withdrawal symptoms! I immediately stopped giving it to my kids and taking it myself,  It took a couple weeks to get through the worst of it, but I am still itching after a month\n",
              "2330  Zyrtec-D  ...                                                                                                                                                                                                                                                                                                                                                                                 \n",
              "2331     Zyvox  ...                                                                                                                                                                                              It is a very unpleasant feeling,  It was the worst 2 weeks of my life,  Weakness, I felt horrible,  My doctor keeps on eye on me but the brown tongue and funky taste is disgusting\n",
              "2332   ZzzQuil  ...                                                                                                                                                                                                                                                                                                                                                                                 \n",
              "2333    femhrt  ...                                                                                                                                                                                                                                                                                                           it worked well for symptom management but the side effect was horrible\n",
              "\n",
              "[5 rows x 11 columns]"
            ]
          },
          "metadata": {
            "tags": []
          },
          "execution_count": 31
        }
      ]
    },
    {
      "cell_type": "code",
      "metadata": {
        "id": "5OHQckeX0L1x"
      },
      "source": [
        "data=data.drop([\"review_wordcount\",\"usefulCount\"],axis=1)"
      ],
      "execution_count": 32,
      "outputs": []
    },
    {
      "cell_type": "code",
      "metadata": {
        "colab": {
          "base_uri": "https://localhost:8080/",
          "height": 748
        },
        "id": "kzNSw_YV0ZAS",
        "outputId": "6f6dff68-d6e3-4fe3-aeec-f0f5e9fda455"
      },
      "source": [
        "data.tail()"
      ],
      "execution_count": 33,
      "outputs": [
        {
          "output_type": "execute_result",
          "data": {
            "text/html": [
              "<div>\n",
              "<style scoped>\n",
              "    .dataframe tbody tr th:only-of-type {\n",
              "        vertical-align: middle;\n",
              "    }\n",
              "\n",
              "    .dataframe tbody tr th {\n",
              "        vertical-align: top;\n",
              "    }\n",
              "\n",
              "    .dataframe thead th {\n",
              "        text-align: right;\n",
              "    }\n",
              "</style>\n",
              "<table border=\"1\" class=\"dataframe\">\n",
              "  <thead>\n",
              "    <tr style=\"text-align: right;\">\n",
              "      <th></th>\n",
              "      <th>drugName</th>\n",
              "      <th>condition</th>\n",
              "      <th>review</th>\n",
              "      <th>rating</th>\n",
              "      <th>polarity</th>\n",
              "      <th>Side_Effect</th>\n",
              "      <th>effectiveness</th>\n",
              "      <th>Pos_Sent</th>\n",
              "      <th>Neg_Sent</th>\n",
              "    </tr>\n",
              "  </thead>\n",
              "  <tbody>\n",
              "    <tr>\n",
              "      <th>2329</th>\n",
              "      <td>Zyrtec</td>\n",
              "      <td>7&lt;/span&gt; users found this comment helpful., 9&lt;/span&gt; users found this comment helpful., Allergic Rhinitis, Urticaria</td>\n",
              "      <td>\"52 y/o Well I have had hives for 2 almost 3 weeks now on my face scalp neck..because undermined and I never had them before. I was put on pred-Metra-soul pack that I quit due to the extreme side effects. A sedative. I used a heap of ear and eye drops. Was taking Benadryll. I just wanted to claw my skin off..the welts were painful and then became HORRIBLY insanely itchy. One or three would go ...</td>\n",
              "      <td>7.141304</td>\n",
              "      <td>0.091117</td>\n",
              "      <td>red blotches, cough, Urticaria, stress, ache, aversion, anger, fall, lethargy, nightmare, withdraw, fever, bite, sneeze, pain, fatigue, groggy, flare, drowsiness, weight gain, swelling, elation, sleepy, headache, welt, scratch, sniffle, tired, autoimmune disorder, idiopathic urticaria</td>\n",
              "      <td>52.72%</td>\n",
              "      <td>Felt good! ITCHING STOPPED,  No drowsiness is the best part,  Anyhow now im researching what to take for mango skin allergy, I have Allegra which isnt as good and since I dont work now Im going to take Zyrtec for it after reading the reviews on it,  I give Zyrtec 8 stars BC it is a great otc fix for allergies,  They were very effective on me, feeling great,  Great product,  I am happy to say,...</td>\n",
              "      <td>the welts were painful and then became HORRIBLY insanely itchy,  Terrible,  I just got done with a horrible case from penicillin, HATE HATE HATE THE PACKAGING,  The horrible migraines were withdrawal symptoms! I immediately stopped giving it to my kids and taking it myself,  It took a couple weeks to get through the worst of it, but I am still itching after a month</td>\n",
              "    </tr>\n",
              "    <tr>\n",
              "      <th>2330</th>\n",
              "      <td>Zyrtec-D</td>\n",
              "      <td>4&lt;/span&gt; users found this comment helpful., Allergic Rhinitis</td>\n",
              "      <td>\"had tried claritin-d, and others prior to finding Zyrtec-D. I have now used it for a number of years, and find it difficult to breath without it. Works very well for me, while nothing else that I could find has.\" \"This medicine works better than any other allergy medication with decongestion that I have ever tried.\"</td>\n",
              "      <td>9.000000</td>\n",
              "      <td>0.015000</td>\n",
              "      <td></td>\n",
              "      <td>63.45%</td>\n",
              "      <td></td>\n",
              "      <td></td>\n",
              "    </tr>\n",
              "    <tr>\n",
              "      <th>2331</th>\n",
              "      <td>Zyvox</td>\n",
              "      <td>Bacteremia, Bacterial Infection, Methicillin-Resistant Staphylococcus Aureus Infection, Pneumonia, Skin and Structure Infection</td>\n",
              "      <td>\"7 day treatment worked well on an infection that lasted over 5 months\" \"After having arthroscopic knee surgery, I developed a persistent skin infection (cellulitis) at the surgery site. I spent a month on different antibiotics that didnt clear the infection (cephalexin, clindamycin, and ciprofloxacin) and was finally admitted to the hospital for another surgery and treatment with IV antibioti...</td>\n",
              "      <td>8.714286</td>\n",
              "      <td>-0.048765</td>\n",
              "      <td>Sepsis, chill, fever, headache, pain, surgery, swelling, tired, Influenza, vomiting, nausea, dizziness, diarrhea, ache, bone infection, sleepy, wound, open wound</td>\n",
              "      <td>59.54%</td>\n",
              "      <td>If this works then its an amazing, wonderful drug,  It was however very effective</td>\n",
              "      <td>It is a very unpleasant feeling,  It was the worst 2 weeks of my life,  Weakness, I felt horrible,  My doctor keeps on eye on me but the brown tongue and funky taste is disgusting</td>\n",
              "    </tr>\n",
              "    <tr>\n",
              "      <th>2332</th>\n",
              "      <td>ZzzQuil</td>\n",
              "      <td>Insomnia</td>\n",
              "      <td>\"Gave me rapid heart beats !!!!!!!!!\" \"I purchased the zzzquil and it did not work not 1 bit , I would not recommended medication to anyone...\" \"I usually work a 10 hr shift in the afternoon but my boss has changed my Saturday shift to 5am-1pm. We live on a farm and have 3 outside dogs that like to bark at night. The first morning shift I only got 2 hrs sleep because of our dogs. I purchased Z...</td>\n",
              "      <td>2.000000</td>\n",
              "      <td>0.078283</td>\n",
              "      <td>fall</td>\n",
              "      <td>16.35%</td>\n",
              "      <td></td>\n",
              "      <td></td>\n",
              "    </tr>\n",
              "    <tr>\n",
              "      <th>2333</th>\n",
              "      <td>femhrt</td>\n",
              "      <td>0&lt;/span&gt; users found this comment helpful., Acne, Menstrual Disorders, Postmenopausal Symptoms</td>\n",
              "      <td>\"femhrt took away my hot flashes within a week but the acne was unbearable. Stopped taking it.\" \"Femhrt worked wonderful. Had to wait a couple of months for the full effect so give it time. The only downfall is that it is expensive and does not have a generic.\" \"Hot flashes completely gone in less than 2 weeks. Works great.\" \"I was on femHRT for four months and had BV (bacterial vaginitis) all...</td>\n",
              "      <td>6.500000</td>\n",
              "      <td>0.067333</td>\n",
              "      <td>birth control, bedridden, fall, pain</td>\n",
              "      <td>47.52%</td>\n",
              "      <td>\" \"Femhrt worked wonderful,  Works great</td>\n",
              "      <td>it worked well for symptom management but the side effect was horrible</td>\n",
              "    </tr>\n",
              "  </tbody>\n",
              "</table>\n",
              "</div>"
            ],
            "text/plain": [
              "      drugName  ...                                                                                                                                                                                                                                                                                                                                                                         Neg_Sent\n",
              "2329    Zyrtec  ...  the welts were painful and then became HORRIBLY insanely itchy,  Terrible,  I just got done with a horrible case from penicillin, HATE HATE HATE THE PACKAGING,  The horrible migraines were withdrawal symptoms! I immediately stopped giving it to my kids and taking it myself,  It took a couple weeks to get through the worst of it, but I am still itching after a month\n",
              "2330  Zyrtec-D  ...                                                                                                                                                                                                                                                                                                                                                                                 \n",
              "2331     Zyvox  ...                                                                                                                                                                                              It is a very unpleasant feeling,  It was the worst 2 weeks of my life,  Weakness, I felt horrible,  My doctor keeps on eye on me but the brown tongue and funky taste is disgusting\n",
              "2332   ZzzQuil  ...                                                                                                                                                                                                                                                                                                                                                                                 \n",
              "2333    femhrt  ...                                                                                                                                                                                                                                                                                                           it worked well for symptom management but the side effect was horrible\n",
              "\n",
              "[5 rows x 9 columns]"
            ]
          },
          "metadata": {
            "tags": []
          },
          "execution_count": 33
        }
      ]
    },
    {
      "cell_type": "code",
      "metadata": {
        "id": "s87EqR3nioPZ"
      },
      "source": [
        "output = pd.concat([data.drugName,data.condition,data.Side_Effect,data.effectiveness],axis = 1)\r\n"
      ],
      "execution_count": 34,
      "outputs": []
    },
    {
      "cell_type": "code",
      "metadata": {
        "colab": {
          "base_uri": "https://localhost:8080/",
          "height": 255
        },
        "id": "sbpTduuD0Hba",
        "outputId": "ed28bb77-ad63-4eb4-d80f-a0208671dd1a"
      },
      "source": [
        "output.tail()"
      ],
      "execution_count": 35,
      "outputs": [
        {
          "output_type": "execute_result",
          "data": {
            "text/html": [
              "<div>\n",
              "<style scoped>\n",
              "    .dataframe tbody tr th:only-of-type {\n",
              "        vertical-align: middle;\n",
              "    }\n",
              "\n",
              "    .dataframe tbody tr th {\n",
              "        vertical-align: top;\n",
              "    }\n",
              "\n",
              "    .dataframe thead th {\n",
              "        text-align: right;\n",
              "    }\n",
              "</style>\n",
              "<table border=\"1\" class=\"dataframe\">\n",
              "  <thead>\n",
              "    <tr style=\"text-align: right;\">\n",
              "      <th></th>\n",
              "      <th>drugName</th>\n",
              "      <th>condition</th>\n",
              "      <th>Side_Effect</th>\n",
              "      <th>effectiveness</th>\n",
              "    </tr>\n",
              "  </thead>\n",
              "  <tbody>\n",
              "    <tr>\n",
              "      <th>2329</th>\n",
              "      <td>Zyrtec</td>\n",
              "      <td>7&lt;/span&gt; users found this comment helpful., 9&lt;/span&gt; users found this comment helpful., Allergic Rhinitis, Urticaria</td>\n",
              "      <td>red blotches, cough, Urticaria, stress, ache, aversion, anger, fall, lethargy, nightmare, withdraw, fever, bite, sneeze, pain, fatigue, groggy, flare, drowsiness, weight gain, swelling, elation, sleepy, headache, welt, scratch, sniffle, tired, autoimmune disorder, idiopathic urticaria</td>\n",
              "      <td>52.72%</td>\n",
              "    </tr>\n",
              "    <tr>\n",
              "      <th>2330</th>\n",
              "      <td>Zyrtec-D</td>\n",
              "      <td>4&lt;/span&gt; users found this comment helpful., Allergic Rhinitis</td>\n",
              "      <td></td>\n",
              "      <td>63.45%</td>\n",
              "    </tr>\n",
              "    <tr>\n",
              "      <th>2331</th>\n",
              "      <td>Zyvox</td>\n",
              "      <td>Bacteremia, Bacterial Infection, Methicillin-Resistant Staphylococcus Aureus Infection, Pneumonia, Skin and Structure Infection</td>\n",
              "      <td>Sepsis, chill, fever, headache, pain, surgery, swelling, tired, Influenza, vomiting, nausea, dizziness, diarrhea, ache, bone infection, sleepy, wound, open wound</td>\n",
              "      <td>59.54%</td>\n",
              "    </tr>\n",
              "    <tr>\n",
              "      <th>2332</th>\n",
              "      <td>ZzzQuil</td>\n",
              "      <td>Insomnia</td>\n",
              "      <td>fall</td>\n",
              "      <td>16.35%</td>\n",
              "    </tr>\n",
              "    <tr>\n",
              "      <th>2333</th>\n",
              "      <td>femhrt</td>\n",
              "      <td>0&lt;/span&gt; users found this comment helpful., Acne, Menstrual Disorders, Postmenopausal Symptoms</td>\n",
              "      <td>birth control, bedridden, fall, pain</td>\n",
              "      <td>47.52%</td>\n",
              "    </tr>\n",
              "  </tbody>\n",
              "</table>\n",
              "</div>"
            ],
            "text/plain": [
              "      drugName  ... effectiveness\n",
              "2329    Zyrtec  ...        52.72%\n",
              "2330  Zyrtec-D  ...        63.45%\n",
              "2331     Zyvox  ...        59.54%\n",
              "2332   ZzzQuil  ...        16.35%\n",
              "2333    femhrt  ...        47.52%\n",
              "\n",
              "[5 rows x 4 columns]"
            ]
          },
          "metadata": {
            "tags": []
          },
          "execution_count": 35
        }
      ]
    },
    {
      "cell_type": "code",
      "metadata": {
        "id": "NtdarswKlXsD"
      },
      "source": [
        "output.to_csv(\"Output.csv\")"
      ],
      "execution_count": 36,
      "outputs": []
    },
    {
      "cell_type": "code",
      "metadata": {
        "id": "lmRskdsfuLKE"
      },
      "source": [
        "data.to_csv(\"All_Output.csv\")"
      ],
      "execution_count": 37,
      "outputs": []
    }
  ]
}